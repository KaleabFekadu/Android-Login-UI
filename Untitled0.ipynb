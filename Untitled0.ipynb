{
  "nbformat": 4,
  "nbformat_minor": 0,
  "metadata": {
    "colab": {
      "provenance": [],
      "authorship_tag": "ABX9TyNsHvg0v3vGsPQBmqHQoQUm",
      "include_colab_link": true
    },
    "kernelspec": {
      "name": "python3",
      "display_name": "Python 3"
    },
    "language_info": {
      "name": "python"
    }
  },
  "cells": [
    {
      "cell_type": "markdown",
      "metadata": {
        "id": "view-in-github",
        "colab_type": "text"
      },
      "source": [
        "<a href=\"https://colab.research.google.com/github/KaleabFekadu/Android-Login-UI/blob/main/Untitled0.ipynb\" target=\"_parent\"><img src=\"https://colab.research.google.com/assets/colab-badge.svg\" alt=\"Open In Colab\"/></a>"
      ]
    },
    {
      "cell_type": "code",
      "execution_count": 3,
      "metadata": {
        "colab": {
          "base_uri": "https://localhost:8080/"
        },
        "id": "Anouvrgya4Kl",
        "outputId": "93e918d7-ab7d-4c10-cec1-0112d1e40b9d"
      },
      "outputs": [
        {
          "output_type": "stream",
          "name": "stdout",
          "text": [
            "Accuracy: 1.0\n"
          ]
        }
      ],
      "source": [
        "# Step 1: Import the required libraries\n",
        "import numpy as np\n",
        "import pandas as pd\n",
        "from sklearn.datasets import load_iris\n",
        "from sklearn.model_selection import train_test_split\n",
        "from sklearn.tree import DecisionTreeClassifier\n",
        "from sklearn.metrics import accuracy_score\n",
        "\n",
        "#In this step, the necessary libraries are imported. NumPy (import numpy as np) and Pandas (import pandas as pd) are commonly used for data manipulation and analysis. load_iris from sklearn.datasets is imported to load the Iris dataset. train_test_split from sklearn.model_selection is used to split the data into training and testing sets. DecisionTreeClassifier from sklearn.tree is imported to create the decision tree classifier. accuracy_score from sklearn.metrics is used to evaluate the model's accuracy.\n",
        "#NumPy stands for \"Numerical Python.\" It is a fundamental library for numerical computing in Python. NumPy provides powerful data structures, such as multi-dimensional arrays (ndarrays), along with a collection of functions for performing mathematical operations on these arrays efficiently.\n",
        "#Pandas is a popular open-source library for data manipulation and analysis in Python. It provides highly efficient and easy-to-use data structures, such as DataFrame and Series, along with a vast array of functions and methods for working with structured data. Pandas is built on top of NumPy, another fundamental library for numerical computing in Python.\n",
        "\n",
        "# Step 2: Load the dataset\n",
        "iris = load_iris()\n",
        "X = iris.data\n",
        "y = iris.target\n",
        "\n",
        "#In this step, the Iris dataset is loaded using the load_iris() function, and the data (iris.data) and target (iris.target) are assigned to X and y variables, respectively. The X variable contains the feature data (the measurements), and the y variable contains the target data (the species labels).\n",
        "\n",
        "# Step 3: Split the data into training and testing sets\n",
        "X_train, X_test, y_train, y_test = train_test_split(X, y, test_size=0.2, random_state=42)\n",
        "\n",
        "#Here, the data is split into training and testing sets using train_test_split(). The X and y variables are passed as arguments, along with the test_size parameter, which determines the proportion of the data to be used for testing (20% in this case). The random_state parameter is set to 42 to ensure reproducibility.\n",
        "\n",
        "# Step 4: Build and train the model\n",
        "model = DecisionTreeClassifier()\n",
        "model.fit(X_train, y_train)\n",
        "\n",
        "#In this step, a decision tree classifier model is created using DecisionTreeClassifier(). The model variable is assigned to the created classifier object. Then, the model is trained on the training data using fit(), with X_train as the features and y_train as the corresponding target labels.\n",
        "\n",
        "# Step 5: Make predictions on the test set\n",
        "y_pred = model.predict(X_test)\n",
        "\n",
        "#Here, the trained model is used to make predictions on the test set (X_test) using the predict() method. The predicted target labels are assigned to the y_pred variable.\n",
        "\n",
        "# Step 6: Evaluate the model\n",
        "accuracy = accuracy_score(y_test, y_pred)\n",
        "print(\"Accuracy:\", accuracy)\n",
        "\n",
        "#Finally, the accuracy of the model is calculated by comparing the predicted labels (y_pred) with the true labels from the test set (y_test). The accuracy_score() function is used for this purpose. The calculated accuracy score is then printed to the console using print(), along with a descriptive message.\n"
      ]
    }
  ]
}